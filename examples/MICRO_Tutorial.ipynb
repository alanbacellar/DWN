{
 "cells": [
  {
   "cell_type": "code",
   "execution_count": null,
   "id": "e2e1c312-e1c6-4276-a539-f37db5eb2f92",
   "metadata": {},
   "outputs": [],
   "source": [
    "import torch\n",
    "from torch import nn\n",
    "from torch.nn.functional import cross_entropy\n",
    "from torchvision import datasets, transforms\n",
    "from torch.utils.data import DataLoader\n",
    "import torch_dwn as dwn"
   ]
  },
  {
   "cell_type": "code",
   "execution_count": null,
   "id": "b41af84f-31c4-42ba-aefa-951415a32abc",
   "metadata": {},
   "outputs": [],
   "source": [
    "device = 'cuda:0'"
   ]
  },
  {
   "cell_type": "markdown",
   "id": "3a6aed8a-2707-47b7-8bee-5764e9d50cd2",
   "metadata": {},
   "source": [
    "### Train and evaluate functions"
   ]
  },
  {
   "cell_type": "code",
   "execution_count": null,
   "id": "b4562b8f-76f0-4c23-899e-dacc7f880841",
   "metadata": {},
   "outputs": [],
   "source": [
    "def evaluate(model, x_test, y_test):\n",
    "    model.eval()\n",
    "    with torch.no_grad():\n",
    "        pred = (model(x_test.cuda(device)).cpu()).argmax(dim=1).numpy()\n",
    "        acc = (pred == y_test.numpy()).sum() / y_test.shape[0]\n",
    "    return acc\n",
    "\n",
    "def train_and_evaluate(model, optimizer, scheduler, x_train, y_train, x_test, y_test, epochs, batch_size):\n",
    "    n_samples = x_train.shape[0]\n",
    "    \n",
    "    for epoch in range(epochs):\n",
    "        model.train()\n",
    "        permutation = torch.randperm(n_samples)\n",
    "        correct_train = 0\n",
    "        total_train = 0\n",
    "        \n",
    "        for i in range(0, n_samples, batch_size):\n",
    "            optimizer.zero_grad()\n",
    "            \n",
    "            indices = permutation[i:i+batch_size]\n",
    "            batch_x, batch_y = x_train[indices].cuda(device), y_train[indices].cuda(device)\n",
    "            \n",
    "            outputs = model(batch_x)\n",
    "            loss = cross_entropy(outputs, batch_y)\n",
    "            loss.backward()\n",
    "            optimizer.step()\n",
    "            \n",
    "            pred_train = outputs.argmax(dim=1)\n",
    "            correct_train += (pred_train == batch_y).sum().item()\n",
    "            total_train += batch_y.size(0)\n",
    "        \n",
    "        train_acc = correct_train / total_train\n",
    "        \n",
    "        scheduler.step()\n",
    "        \n",
    "        test_acc = evaluate(model, x_test, y_test)\n",
    "        print(f'Epoch {epoch + 1}/{epochs}, Train Loss: {loss.item():.4f}, Train Accuracy: {train_acc:.4f}, Test Accuracy: {test_acc:.4f}')"
   ]
  },
  {
   "cell_type": "markdown",
   "id": "c2706c60-75ac-4c91-8e4f-774c3443e46e",
   "metadata": {},
   "source": [
    "# MNIST"
   ]
  },
  {
   "cell_type": "markdown",
   "id": "29c58b99-46f0-4a58-a0cd-59c7284e2184",
   "metadata": {},
   "source": [
    "### Load MNIST"
   ]
  },
  {
   "cell_type": "code",
   "execution_count": null,
   "id": "ad19c2dc-a959-40da-9fc6-10b226b59dcf",
   "metadata": {},
   "outputs": [],
   "source": [
    "transform = transforms.Compose([\n",
    "    transforms.ToTensor(),\n",
    "    transforms.Lambda(lambda x: torch.flatten(x))\n",
    "])\n",
    "\n",
    "train_dataset = datasets.MNIST(root='./data', train=True, download=True, transform=transform)\n",
    "test_dataset = datasets.MNIST(root='./data', train=False, download=True, transform=transform)\n",
    "\n",
    "train_loader = DataLoader(dataset=train_dataset, batch_size=len(train_dataset), shuffle=True)\n",
    "test_loader = DataLoader(dataset=test_dataset, batch_size=len(test_dataset), shuffle=False)\n",
    "\n",
    "x_train, y_train = next(iter(train_loader))\n",
    "x_test, y_test = next(iter(test_loader))"
   ]
  },
  {
   "cell_type": "markdown",
   "id": "b40ad235-c6b8-46b6-b41b-f4a13f2876c0",
   "metadata": {},
   "source": [
    "### Binarize data with Distributive Thermometer"
   ]
  },
  {
   "cell_type": "code",
   "execution_count": null,
   "id": "3593f9de-0d3c-4ada-91ea-1b4dbe5353d6",
   "metadata": {},
   "outputs": [],
   "source": [
    "thermometer = dwn.DistributiveThermometer(3).fit(x_train)\n",
    "x_train = thermometer.binarize(x_train).flatten(start_dim=1)\n",
    "x_test = thermometer.binarize(x_test).flatten(start_dim=1)"
   ]
  },
  {
   "cell_type": "markdown",
   "id": "72b16803-9439-4b55-95bf-b804c9a9a284",
   "metadata": {},
   "source": [
    "### Model"
   ]
  },
  {
   "cell_type": "code",
   "execution_count": null,
   "id": "36db9273-0537-4f12-b550-2b530b47f27a",
   "metadata": {},
   "outputs": [],
   "source": [
    "model = nn.Sequential(\n",
    "    dwn.LUTLayer(x_train.size(1), 2000, n=6, mapping='learnable'),\n",
    "    dwn.LUTLayer(2000, 1000, n=6),\n",
    "    dwn.GroupSum(k=10, tau=1/0.3)\n",
    ").cuda()"
   ]
  },
  {
   "cell_type": "markdown",
   "id": "1a4d38fc-0c34-4657-a257-18a006702068",
   "metadata": {},
   "source": [
    "### Optimizer and Scheduler"
   ]
  },
  {
   "cell_type": "code",
   "execution_count": null,
   "id": "15c98101-a6f0-45fd-9834-5e45b474a38f",
   "metadata": {},
   "outputs": [],
   "source": [
    "optimizer = torch.optim.Adam(model.parameters(), lr=1e-2)\n",
    "scheduler = torch.optim.lr_scheduler.StepLR(optimizer, gamma=0.1, step_size=14)"
   ]
  },
  {
   "cell_type": "markdown",
   "id": "aaabc918-0588-4d27-bba9-f371add5589e",
   "metadata": {},
   "source": [
    "### Train and evaluate model"
   ]
  },
  {
   "cell_type": "code",
   "execution_count": 4,
   "id": "f42369c9-a03e-4cce-9742-a8da4a58c59c",
   "metadata": {},
   "outputs": [
    {
     "name": "stdout",
     "output_type": "stream",
     "text": [
      "Epoch 1/30, Train Loss: 0.0783, Train Accuracy: 0.9187, Test Accuracy: 0.9606\n",
      "Epoch 2/30, Train Loss: 0.0890, Train Accuracy: 0.9674, Test Accuracy: 0.9695\n",
      "Epoch 3/30, Train Loss: 0.0225, Train Accuracy: 0.9773, Test Accuracy: 0.9728\n",
      "Epoch 4/30, Train Loss: 0.0484, Train Accuracy: 0.9847, Test Accuracy: 0.9748\n",
      "Epoch 5/30, Train Loss: 0.0561, Train Accuracy: 0.9891, Test Accuracy: 0.9781\n",
      "Epoch 6/30, Train Loss: 0.0656, Train Accuracy: 0.9921, Test Accuracy: 0.9779\n",
      "Epoch 7/30, Train Loss: 0.0521, Train Accuracy: 0.9943, Test Accuracy: 0.9791\n",
      "Epoch 8/30, Train Loss: 0.0021, Train Accuracy: 0.9958, Test Accuracy: 0.9795\n",
      "Epoch 9/30, Train Loss: 0.0053, Train Accuracy: 0.9971, Test Accuracy: 0.9801\n",
      "Epoch 10/30, Train Loss: 0.0035, Train Accuracy: 0.9976, Test Accuracy: 0.9807\n",
      "Epoch 11/30, Train Loss: 0.0154, Train Accuracy: 0.9979, Test Accuracy: 0.9800\n",
      "Epoch 12/30, Train Loss: 0.0152, Train Accuracy: 0.9991, Test Accuracy: 0.9813\n",
      "Epoch 13/30, Train Loss: 0.0121, Train Accuracy: 0.9991, Test Accuracy: 0.9809\n",
      "Epoch 14/30, Train Loss: 0.0044, Train Accuracy: 0.9994, Test Accuracy: 0.9815\n",
      "Epoch 15/30, Train Loss: 0.0042, Train Accuracy: 0.9998, Test Accuracy: 0.9819\n",
      "Epoch 16/30, Train Loss: 0.0007, Train Accuracy: 0.9999, Test Accuracy: 0.9818\n",
      "Epoch 17/30, Train Loss: 0.0034, Train Accuracy: 1.0000, Test Accuracy: 0.9831\n",
      "Epoch 18/30, Train Loss: 0.0013, Train Accuracy: 1.0000, Test Accuracy: 0.9827\n",
      "Epoch 19/30, Train Loss: 0.0006, Train Accuracy: 1.0000, Test Accuracy: 0.9839\n",
      "Epoch 20/30, Train Loss: 0.0008, Train Accuracy: 1.0000, Test Accuracy: 0.9835\n",
      "Epoch 21/30, Train Loss: 0.0008, Train Accuracy: 1.0000, Test Accuracy: 0.9836\n",
      "Epoch 22/30, Train Loss: 0.0021, Train Accuracy: 1.0000, Test Accuracy: 0.9832\n",
      "Epoch 23/30, Train Loss: 0.0005, Train Accuracy: 1.0000, Test Accuracy: 0.9832\n",
      "Epoch 24/30, Train Loss: 0.0008, Train Accuracy: 1.0000, Test Accuracy: 0.9826\n",
      "Epoch 25/30, Train Loss: 0.0005, Train Accuracy: 1.0000, Test Accuracy: 0.9840\n",
      "Epoch 26/30, Train Loss: 0.0015, Train Accuracy: 1.0000, Test Accuracy: 0.9843\n",
      "Epoch 27/30, Train Loss: 0.0006, Train Accuracy: 1.0000, Test Accuracy: 0.9838\n",
      "Epoch 28/30, Train Loss: 0.0006, Train Accuracy: 1.0000, Test Accuracy: 0.9843\n",
      "Epoch 29/30, Train Loss: 0.0008, Train Accuracy: 1.0000, Test Accuracy: 0.9843\n",
      "Epoch 30/30, Train Loss: 0.0003, Train Accuracy: 1.0000, Test Accuracy: 0.9846\n"
     ]
    }
   ],
   "source": [
    "train_and_evaluate(model, optimizer, scheduler, x_train, y_train, x_test, y_test, epochs=30, batch_size=32)"
   ]
  },
  {
   "cell_type": "markdown",
   "id": "1c8d9d89-b6b5-40c0-b24b-ce2f0e9df9e5",
   "metadata": {},
   "source": [
    "# JSC"
   ]
  },
  {
   "cell_type": "code",
   "execution_count": null,
   "id": "e15f0818-fcc1-4fa0-82e9-453007a79cb9",
   "metadata": {},
   "outputs": [],
   "source": [
    "import openml\n",
    "import pandas as pd\n",
    "import numpy as np\n",
    "from sklearn.model_selection import train_test_split"
   ]
  },
  {
   "cell_type": "markdown",
   "id": "317c4601-9b5d-4407-9811-07f24080bbbe",
   "metadata": {},
   "source": [
    "### Load Data"
   ]
  },
  {
   "cell_type": "code",
   "execution_count": null,
   "id": "0246702c-b89b-412d-9174-845bb25cc39e",
   "metadata": {},
   "outputs": [],
   "source": [
    "dataset = openml.datasets.get_dataset(42468)\n",
    "df_features, df_labels, _, attribute_names = dataset.get_data(dataset_format='dataframe', target=dataset.default_target_attribute)\n",
    "features = df_features.values.astype(np.float32)\n",
    "label_names = list(df_labels.unique())\n",
    "labels = np.array(df_labels.map(lambda x : label_names.index(x)).values)\n",
    "num_output = labels.max() + 1"
   ]
  },
  {
   "cell_type": "markdown",
   "id": "6d188262-5f27-4a39-a8bd-d569dd0ad40a",
   "metadata": {},
   "source": [
    "### Train test split following LogicNets"
   ]
  },
  {
   "cell_type": "code",
   "execution_count": null,
   "id": "55e28388-c5a6-4738-b7ed-5e08b2b0d440",
   "metadata": {},
   "outputs": [],
   "source": [
    "x_train, x_test, y_train, y_test = train_test_split(features, labels, train_size=0.8, random_state=42)"
   ]
  },
  {
   "cell_type": "markdown",
   "id": "8521bfde-db74-4fcc-8771-b38cbd34278e",
   "metadata": {},
   "source": [
    "### Binarize data with Distributive Thermometer"
   ]
  },
  {
   "cell_type": "code",
   "execution_count": null,
   "id": "73c74a30-6af2-42e4-ac1a-1da4ee8ae270",
   "metadata": {},
   "outputs": [],
   "source": [
    "thermometer = dwn.DistributiveThermometer(200).fit(x_train)\n",
    "x_train = thermometer.binarize(x_train).flatten(start_dim=1)\n",
    "x_test = thermometer.binarize(x_test).flatten(start_dim=1)"
   ]
  },
  {
   "cell_type": "code",
   "execution_count": null,
   "id": "c985de92-d7f1-4a29-add6-c5fa03377071",
   "metadata": {},
   "outputs": [],
   "source": [
    "y_train = torch.tensor(y_train, dtype=torch.int64)\n",
    "y_test = torch.tensor(y_test, dtype=torch.int64)"
   ]
  },
  {
   "cell_type": "markdown",
   "id": "ad8bdff4-277e-48ff-8700-2d09c0c53719",
   "metadata": {},
   "source": [
    "### JSC Small"
   ]
  },
  {
   "cell_type": "code",
   "execution_count": null,
   "id": "c36e704e-d29d-4b2a-ac55-a55f2a0536de",
   "metadata": {},
   "outputs": [],
   "source": [
    "model = nn.Sequential(\n",
    "    dwn.LUTLayer(x_train.size(1), 50, n=6, mapping='learnable'),\n",
    "    dwn.GroupSum(k=num_output, tau=1/0.3)\n",
    ").cuda()"
   ]
  },
  {
   "cell_type": "code",
   "execution_count": null,
   "id": "aacb708b-911a-485d-93dd-55e4f237706c",
   "metadata": {},
   "outputs": [],
   "source": [
    "optimizer = torch.optim.Adam(model.parameters(), lr=1e-2)\n",
    "scheduler = torch.optim.lr_scheduler.StepLR(optimizer, gamma=0.1, step_size=14)"
   ]
  },
  {
   "cell_type": "code",
   "execution_count": 5,
   "id": "b68581f4-2eb8-48d4-9cfb-f5161508540e",
   "metadata": {},
   "outputs": [
    {
     "name": "stdout",
     "output_type": "stream",
     "text": [
      "Epoch 1/30, Train Loss: 0.8877, Train Accuracy: 0.7342, Test Accuracy: 0.7344\n",
      "Epoch 2/30, Train Loss: 0.8222, Train Accuracy: 0.7386, Test Accuracy: 0.7342\n",
      "Epoch 3/30, Train Loss: 0.8205, Train Accuracy: 0.7391, Test Accuracy: 0.7385\n",
      "Epoch 4/30, Train Loss: 0.9186, Train Accuracy: 0.7393, Test Accuracy: 0.7382\n",
      "Epoch 5/30, Train Loss: 0.9154, Train Accuracy: 0.7394, Test Accuracy: 0.7381\n",
      "Epoch 6/30, Train Loss: 0.7503, Train Accuracy: 0.7396, Test Accuracy: 0.7388\n",
      "Epoch 7/30, Train Loss: 0.7493, Train Accuracy: 0.7394, Test Accuracy: 0.7385\n",
      "Epoch 8/30, Train Loss: 0.8439, Train Accuracy: 0.7396, Test Accuracy: 0.7372\n",
      "Epoch 9/30, Train Loss: 0.6671, Train Accuracy: 0.7399, Test Accuracy: 0.7378\n",
      "Epoch 10/30, Train Loss: 0.8610, Train Accuracy: 0.7398, Test Accuracy: 0.7375\n",
      "Epoch 11/30, Train Loss: 0.7591, Train Accuracy: 0.7399, Test Accuracy: 0.7377\n",
      "Epoch 12/30, Train Loss: 0.7076, Train Accuracy: 0.7399, Test Accuracy: 0.7371\n",
      "Epoch 13/30, Train Loss: 0.7291, Train Accuracy: 0.7402, Test Accuracy: 0.7377\n",
      "Epoch 14/30, Train Loss: 0.8641, Train Accuracy: 0.7401, Test Accuracy: 0.7393\n",
      "Epoch 15/30, Train Loss: 0.8065, Train Accuracy: 0.7405, Test Accuracy: 0.7367\n",
      "Epoch 16/30, Train Loss: 0.7839, Train Accuracy: 0.7405, Test Accuracy: 0.7377\n",
      "Epoch 17/30, Train Loss: 0.7806, Train Accuracy: 0.7404, Test Accuracy: 0.7386\n",
      "Epoch 18/30, Train Loss: 0.8209, Train Accuracy: 0.7406, Test Accuracy: 0.7386\n",
      "Epoch 19/30, Train Loss: 0.8063, Train Accuracy: 0.7403, Test Accuracy: 0.7389\n",
      "Epoch 20/30, Train Loss: 0.7478, Train Accuracy: 0.7403, Test Accuracy: 0.7381\n",
      "Epoch 21/30, Train Loss: 0.7473, Train Accuracy: 0.7405, Test Accuracy: 0.7382\n",
      "Epoch 22/30, Train Loss: 0.7780, Train Accuracy: 0.7402, Test Accuracy: 0.7375\n",
      "Epoch 23/30, Train Loss: 0.7140, Train Accuracy: 0.7404, Test Accuracy: 0.7388\n",
      "Epoch 24/30, Train Loss: 0.7665, Train Accuracy: 0.7402, Test Accuracy: 0.7392\n",
      "Epoch 25/30, Train Loss: 0.7953, Train Accuracy: 0.7403, Test Accuracy: 0.7380\n",
      "Epoch 26/30, Train Loss: 0.6821, Train Accuracy: 0.7404, Test Accuracy: 0.7387\n",
      "Epoch 27/30, Train Loss: 0.8326, Train Accuracy: 0.7400, Test Accuracy: 0.7385\n",
      "Epoch 28/30, Train Loss: 0.7966, Train Accuracy: 0.7402, Test Accuracy: 0.7380\n",
      "Epoch 29/30, Train Loss: 0.8695, Train Accuracy: 0.7404, Test Accuracy: 0.7396\n",
      "Epoch 30/30, Train Loss: 0.9083, Train Accuracy: 0.7405, Test Accuracy: 0.7396\n"
     ]
    }
   ],
   "source": [
    "train_and_evaluate(model, optimizer, scheduler, x_train, y_train, x_test, y_test, epochs=30, batch_size=100)"
   ]
  },
  {
   "cell_type": "markdown",
   "id": "8518dc93-656a-4176-a799-9f9be7a5c06a",
   "metadata": {},
   "source": [
    "### JSC Medium"
   ]
  },
  {
   "cell_type": "code",
   "execution_count": null,
   "id": "6c302b8d-f0c6-499f-b675-56354a134daf",
   "metadata": {},
   "outputs": [],
   "source": [
    "model = nn.Sequential(\n",
    "    dwn.LUTLayer(x_train.size(1), 1000, n=6, mapping='learnable'),\n",
    "    dwn.GroupSum(k=num_output, tau=1/0.05)\n",
    ").cuda()"
   ]
  },
  {
   "cell_type": "code",
   "execution_count": null,
   "id": "8f094109-c43f-4536-9ec6-2a9ad85b7427",
   "metadata": {},
   "outputs": [],
   "source": [
    "optimizer = torch.optim.Adam(model.parameters(), lr=1e-2)\n",
    "scheduler = torch.optim.lr_scheduler.StepLR(optimizer, gamma=0.1, step_size=14)"
   ]
  },
  {
   "cell_type": "code",
   "execution_count": 6,
   "id": "f2ec3a9b-0569-4f06-8652-f9d773d04ba8",
   "metadata": {},
   "outputs": [
    {
     "name": "stdout",
     "output_type": "stream",
     "text": [
      "Epoch 1/30, Train Loss: 0.8633, Train Accuracy: 0.7487, Test Accuracy: 0.7527\n",
      "Epoch 2/30, Train Loss: 0.6423, Train Accuracy: 0.7552, Test Accuracy: 0.7543\n",
      "Epoch 3/30, Train Loss: 0.6220, Train Accuracy: 0.7568, Test Accuracy: 0.7559\n",
      "Epoch 4/30, Train Loss: 0.6660, Train Accuracy: 0.7585, Test Accuracy: 0.7559\n",
      "Epoch 5/30, Train Loss: 0.5762, Train Accuracy: 0.7590, Test Accuracy: 0.7554\n",
      "Epoch 6/30, Train Loss: 0.6594, Train Accuracy: 0.7592, Test Accuracy: 0.7554\n",
      "Epoch 7/30, Train Loss: 0.6513, Train Accuracy: 0.7593, Test Accuracy: 0.7574\n",
      "Epoch 8/30, Train Loss: 0.6353, Train Accuracy: 0.7597, Test Accuracy: 0.7575\n",
      "Epoch 9/30, Train Loss: 0.6579, Train Accuracy: 0.7602, Test Accuracy: 0.7583\n",
      "Epoch 10/30, Train Loss: 0.5930, Train Accuracy: 0.7605, Test Accuracy: 0.7570\n",
      "Epoch 11/30, Train Loss: 0.7807, Train Accuracy: 0.7606, Test Accuracy: 0.7573\n",
      "Epoch 12/30, Train Loss: 0.5843, Train Accuracy: 0.7604, Test Accuracy: 0.7577\n",
      "Epoch 13/30, Train Loss: 0.5980, Train Accuracy: 0.7606, Test Accuracy: 0.7586\n",
      "Epoch 14/30, Train Loss: 0.8580, Train Accuracy: 0.7606, Test Accuracy: 0.7578\n",
      "Epoch 15/30, Train Loss: 0.5326, Train Accuracy: 0.7633, Test Accuracy: 0.7597\n",
      "Epoch 16/30, Train Loss: 0.7555, Train Accuracy: 0.7636, Test Accuracy: 0.7603\n",
      "Epoch 17/30, Train Loss: 0.7093, Train Accuracy: 0.7640, Test Accuracy: 0.7604\n",
      "Epoch 18/30, Train Loss: 0.7263, Train Accuracy: 0.7639, Test Accuracy: 0.7595\n",
      "Epoch 19/30, Train Loss: 0.5066, Train Accuracy: 0.7642, Test Accuracy: 0.7602\n",
      "Epoch 20/30, Train Loss: 0.6795, Train Accuracy: 0.7644, Test Accuracy: 0.7599\n",
      "Epoch 21/30, Train Loss: 0.6373, Train Accuracy: 0.7643, Test Accuracy: 0.7588\n",
      "Epoch 22/30, Train Loss: 0.7350, Train Accuracy: 0.7644, Test Accuracy: 0.7603\n",
      "Epoch 23/30, Train Loss: 0.5936, Train Accuracy: 0.7644, Test Accuracy: 0.7600\n",
      "Epoch 24/30, Train Loss: 0.5667, Train Accuracy: 0.7645, Test Accuracy: 0.7607\n",
      "Epoch 25/30, Train Loss: 0.7524, Train Accuracy: 0.7646, Test Accuracy: 0.7605\n",
      "Epoch 26/30, Train Loss: 0.7051, Train Accuracy: 0.7645, Test Accuracy: 0.7594\n",
      "Epoch 27/30, Train Loss: 0.7121, Train Accuracy: 0.7646, Test Accuracy: 0.7604\n",
      "Epoch 28/30, Train Loss: 0.6348, Train Accuracy: 0.7648, Test Accuracy: 0.7605\n",
      "Epoch 29/30, Train Loss: 0.5820, Train Accuracy: 0.7654, Test Accuracy: 0.7606\n",
      "Epoch 30/30, Train Loss: 0.5550, Train Accuracy: 0.7654, Test Accuracy: 0.7610\n"
     ]
    }
   ],
   "source": [
    "train_and_evaluate(model, optimizer, scheduler, x_train, y_train, x_test, y_test, epochs=30, batch_size=100)"
   ]
  },
  {
   "cell_type": "code",
   "execution_count": null,
   "id": "e67d28fb-d641-4f95-bedd-85a057b8a245",
   "metadata": {},
   "outputs": [],
   "source": []
  }
 ],
 "metadata": {
  "kernelspec": {
   "display_name": "Python 3 (ipykernel)",
   "language": "python",
   "name": "python3"
  },
  "language_info": {
   "codemirror_mode": {
    "name": "ipython",
    "version": 3
   },
   "file_extension": ".py",
   "mimetype": "text/x-python",
   "name": "python",
   "nbconvert_exporter": "python",
   "pygments_lexer": "ipython3",
   "version": "3.12.2"
  }
 },
 "nbformat": 4,
 "nbformat_minor": 5
}
